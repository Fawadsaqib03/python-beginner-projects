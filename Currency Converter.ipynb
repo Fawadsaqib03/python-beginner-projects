{
 "cells": [
  {
   "cell_type": "code",
   "execution_count": 2,
   "id": "e16b8ff2",
   "metadata": {},
   "outputs": [
    {
     "name": "stdout",
     "output_type": "stream",
     "text": [
      "💱 Currency Converter\n",
      "Supported currencies: GBP, USD, EUR, PKR\n",
      "350.0 GBP = 124743.59 PKR\n"
     ]
    }
   ],
   "source": [
    "def currency_converter():\n",
    "    \"\"\"Simple Currency Converter (GBP, USD, EUR, PKR)\"\"\"\n",
    "\n",
    "    print(\"💱 Currency Converter\")\n",
    "    print(\"Supported currencies: GBP, USD, EUR, PKR\")\n",
    "\n",
    "    current_currency = input(\"Enter current currency (GBP/USD/EUR/PKR): \").upper()\n",
    "    target_currency = input(\"Enter target currency (GBP/USD/EUR/PKR): \").upper()\n",
    "    amount = float(input(\"Enter amount: \"))\n",
    "\n",
    "    # Example exchange rates (fixed for simplicity)\n",
    "    # Base: 1 USD\n",
    "    rates = {\n",
    "        \"GBP\": 0.78,\n",
    "        \"USD\": 1.0,\n",
    "        \"EUR\": 0.9,\n",
    "        \"PKR\": 278.0\n",
    "    }\n",
    "\n",
    "    # Check if currencies are valid\n",
    "    if current_currency not in rates or target_currency not in rates:\n",
    "        print(\"Invalid currency. Please choose from GBP, USD, EUR, PKR.\")\n",
    "        return\n",
    "\n",
    "    # Convert first to USD, then to target\n",
    "    amount_in_usd = amount / rates[current_currency]\n",
    "    converted = amount_in_usd * rates[target_currency]\n",
    "\n",
    "    print(f\"{amount} {current_currency} = {converted:.2f} {target_currency}\")\n",
    "\n",
    "\n",
    "# Run the converter\n",
    "currency_converter()\n"
   ]
  }
 ],
 "metadata": {
  "kernelspec": {
   "display_name": "Python 3",
   "language": "python",
   "name": "python3"
  },
  "language_info": {
   "codemirror_mode": {
    "name": "ipython",
    "version": 3
   },
   "file_extension": ".py",
   "mimetype": "text/x-python",
   "name": "python",
   "nbconvert_exporter": "python",
   "pygments_lexer": "ipython3",
   "version": "3.13.6"
  }
 },
 "nbformat": 4,
 "nbformat_minor": 5
}
