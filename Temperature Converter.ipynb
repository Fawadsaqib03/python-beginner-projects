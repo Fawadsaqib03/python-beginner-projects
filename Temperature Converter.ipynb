{
 "cells": [
  {
   "cell_type": "code",
   "execution_count": 1,
   "id": "498083dc",
   "metadata": {},
   "outputs": [
    {
     "name": "stdout",
     "output_type": "stream",
     "text": [
      "🌡️ Temperature Converter\n",
      "56.0 °C = 132.80 °F\n"
     ]
    }
   ],
   "source": [
    "def temperature_converter():\n",
    "    \"\"\"Temperature Converter: Celsius, Fahrenheit, Kelvin\"\"\"\n",
    "\n",
    "    print(\"🌡️ Temperature Converter\")\n",
    "    current_unit = input(\"Enter current unit (C for Celsius, F for Fahrenheit, K for Kelvin): \").upper()\n",
    "    target_unit = input(\"Enter target unit (C for Celsius, F for Fahrenheit, K for Kelvin): \").upper()\n",
    "    value = float(input(\"Enter the temperature value: \"))\n",
    "\n",
    "    # Celsius conversions\n",
    "    if current_unit == \"C\" and target_unit == \"F\":\n",
    "        result = (value * 9/5) + 32\n",
    "        print(f\"{value} °C = {result:.2f} °F\")\n",
    "\n",
    "    elif current_unit == \"C\" and target_unit == \"K\":\n",
    "        result = value + 273.15\n",
    "        print(f\"{value} °C = {result:.2f} K\")\n",
    "\n",
    "    # Fahrenheit conversions\n",
    "    elif current_unit == \"F\" and target_unit == \"C\":\n",
    "        result = (value - 32) * 5/9\n",
    "        print(f\"{value} °F = {result:.2f} °C\")\n",
    "\n",
    "    elif current_unit == \"F\" and target_unit == \"K\":\n",
    "        result = (value - 32) * 5/9 + 273.15\n",
    "        print(f\"{value} °F = {result:.2f} K\")\n",
    "\n",
    "    # Kelvin conversions\n",
    "    elif current_unit == \"K\" and target_unit == \"C\":\n",
    "        result = value - 273.15\n",
    "        print(f\"{value} K = {result:.2f} °C\")\n",
    "\n",
    "    elif current_unit == \"K\" and target_unit == \"F\":\n",
    "        result = (value - 273.15) * 9/5 + 32\n",
    "        print(f\"{value} K = {result:.2f} °F\")\n",
    "\n",
    "    # Same unit (no conversion needed)\n",
    "    elif current_unit == target_unit:\n",
    "        print(f\"No conversion needed. Value remains {value} °{current_unit}\")\n",
    "\n",
    "    else:\n",
    "        print(\"Invalid input. Please enter C, F, or K only.\")\n",
    "\n",
    "# Run the converter\n",
    "temperature_converter()\n"
   ]
  }
 ],
 "metadata": {
  "kernelspec": {
   "display_name": "Python 3",
   "language": "python",
   "name": "python3"
  },
  "language_info": {
   "codemirror_mode": {
    "name": "ipython",
    "version": 3
   },
   "file_extension": ".py",
   "mimetype": "text/x-python",
   "name": "python",
   "nbconvert_exporter": "python",
   "pygments_lexer": "ipython3",
   "version": "3.13.6"
  }
 },
 "nbformat": 4,
 "nbformat_minor": 5
}
