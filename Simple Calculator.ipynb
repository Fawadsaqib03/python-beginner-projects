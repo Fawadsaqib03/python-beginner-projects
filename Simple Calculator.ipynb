{
 "cells": [
  {
   "cell_type": "code",
   "execution_count": null,
   "id": "89169907",
   "metadata": {},
   "outputs": [
    {
     "name": "stdout",
     "output_type": "stream",
     "text": [
      "450 ÷ 5 = 90.0\n"
     ]
    }
   ],
   "source": [
    "def calculator():\n",
    "    \"\"\"Making a basic calculator\"\"\"\n",
    "    x = int(input(\"Enter first number: \"))\n",
    "    operation = input(\"Choose operation (add, sub, multi, divi): \")\n",
    "    y = int(input(\"Enter second number: \"))\n",
    "\n",
    "    def add_cal (x,y):\n",
    "        \"\"\"Calculator for adding two numbers\"\"\"\n",
    "        add = x+y\n",
    "        print(f\"{x} + {y} =\",add)\n",
    " \n",
    "    def sub_cal(x,y):\n",
    "        \"\"\"Calculator for Subtracting  two numbers\"\"\"\n",
    "        subtract = x-y\n",
    "        print(f\"{x} - {y} =\",subtract)\n",
    "\n",
    "    def multi_cal(x,y):\n",
    "        \"\"\"Calculator for Multiplying two numbers\"\"\"\n",
    "        multiply = x*y\n",
    "        print(f\"{x} x {y} =\",multiply)\n",
    "\n",
    "    def divi_cal(x,y):\n",
    "        \"\"\"Calculator for Dividing  two numbers\"\"\"\n",
    "        if y != 0:\n",
    "            divide = x/y\n",
    "            print(f\"{x} ÷ {y} =\",divide)\n",
    "        else:\n",
    "            print(\"Try Again\")    \n",
    "\n",
    "    if operation  == \"add\":\n",
    "        add_cal (x,y)\n",
    "    elif operation == \"sub\":\n",
    "        sub_cal(x,y)\n",
    "    elif operation ==\"multi\":\n",
    "        multi_cal(x,y)\n",
    "    elif operation == \"divi\":\n",
    "        divi_cal(x,y)\n",
    "    else:\n",
    "        print(\"Please Try Again\")\n",
    "        \n",
    "calculator()"
   ]
  }
 ],
 "metadata": {
  "kernelspec": {
   "display_name": "Python 3",
   "language": "python",
   "name": "python3"
  },
  "language_info": {
   "codemirror_mode": {
    "name": "ipython",
    "version": 3
   },
   "file_extension": ".py",
   "mimetype": "text/x-python",
   "name": "python",
   "nbconvert_exporter": "python",
   "pygments_lexer": "ipython3",
   "version": "3.13.6"
  }
 },
 "nbformat": 4,
 "nbformat_minor": 5
}
